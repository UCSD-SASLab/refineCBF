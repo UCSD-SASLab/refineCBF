{
 "cells": [
  {
   "cell_type": "markdown",
   "metadata": {},
   "source": [
    "# 2D Bicopter (Quadcopter)\n",
    "\n",
    "We consider the 2D (vertical $z$ and horizontal axis $y$) quadcopter problem, and consider the following dynamics\n",
    "\n",
    "\n",
    "State: $$[y, z, v_y, v_z]$$\n",
    "\n",
    "Near hover Dynamics:\n",
    "$$\\begin{bmatrix}\\dot y \\\\ \\dot z \\\\ \\dot v_y\\\\ \\dot v_z\\end{bmatrix} = \\begin{bmatrix}v_x \\\\ v_y \\\\ -T \\sin(\\phi) \\\\ T \\cos(\\phi) - g\\end{bmatrix}, \\text{with } u=[\\phi, T]$$\n",
    "\n",
    "\n",
    "Approximation of near hover Dynamics: \n",
    "$$\\begin{bmatrix}\\dot y \\\\ \\dot z \\\\ \\dot v_y \\\\ \\dot v_z\\end{bmatrix}=\\dot{X}=\\begin{bmatrix}v_y \\\\ v_z \\\\-g\\tan(\\phi) \\\\ T-g\\end{bmatrix}=\\begin{bmatrix}v_y \\\\ v_z \\\\ -gu_1 \\\\ u_2 - g\\end{bmatrix}, \\text{with } u=[\\tan(\\phi), T]$$"
   ]
  },
  {
   "cell_type": "code",
   "execution_count": 1,
   "metadata": {},
   "outputs": [],
   "source": [
    "%load_ext autoreload\n",
    "%autoreload 2"
   ]
  },
  {
   "cell_type": "code",
   "execution_count": 2,
   "metadata": {},
   "outputs": [
    {
     "data": {
      "text/plain": [
       "'3.9.18 | packaged by conda-forge | (main, Aug 30 2023, 03:49:32) \\n[GCC 12.3.0]'"
      ]
     },
     "execution_count": 2,
     "metadata": {},
     "output_type": "execute_result"
    }
   ],
   "source": [
    "import sys; sys.version"
   ]
  },
  {
   "cell_type": "code",
   "execution_count": 3,
   "metadata": {},
   "outputs": [],
   "source": [
    "import matplotlib\n",
    "matplotlib.rcParams.update({\n",
    "    \"pgf.texsystem\": \"pdflatex\",\n",
    "    'font.family': 'serif',\n",
    "    'font.size': '20',\n",
    "    'text.usetex': False,   # Toggle to true for official LaTeX output\n",
    "    'pgf.rcfonts': False,\n",
    "    'lines.linewidth': 4.,\n",
    "})"
   ]
  },
  {
   "cell_type": "code",
   "execution_count": 4,
   "metadata": {},
   "outputs": [],
   "source": [
    "import warnings\n",
    "warnings.filterwarnings(\"ignore\", category=FutureWarning)\n",
    "warnings.filterwarnings(\"ignore\", category=UserWarning, module=\"matplotlib\")\n",
    "from matplotlib import MatplotlibDeprecationWarning\n",
    "warnings.filterwarnings(\"ignore\", category=MatplotlibDeprecationWarning)\n",
    "import matplotlib.pyplot as plt\n",
    "import jax.numpy as jnp\n",
    "import cvxpy as cp\n",
    "import jax\n",
    "import numpy as np\n",
    "import seaborn as sns\n",
    "\n",
    "import matplotlib\n",
    "import pickle as pkl\n",
    "import pandas as pd\n",
    "\n",
    "from scipy.interpolate import interp1d\n",
    "from matplotlib.animation import FuncAnimation\n",
    "from mpl_toolkits.axes_grid1 import make_axes_locatable\n",
    "from IPython.display import HTML"
   ]
  },
  {
   "cell_type": "code",
   "execution_count": 5,
   "metadata": {},
   "outputs": [],
   "source": [
    "import hj_reachability as hj\n",
    "import cbf_opt\n",
    "from cbf_opt import ControlAffineDynamics, ControlAffineCBF, ControlAffineASIF, SlackifiedControlAffineASIF, BatchedDynamics\n",
    "from experiment_wrapper import RolloutTrajectory, StateSpaceExperiment, TimeSeriesExperiment\n",
    "\n",
    "from refine_cbfs import HJControlAffineDynamics, TabularControlAffineCBF, TabularTVControlAffineCBF, utils\n",
    "\n",
    "from quad_2d.animate_quad import animate_multi_planar_quad, get_drone"
   ]
  },
  {
   "cell_type": "markdown",
   "metadata": {},
   "source": [
    "## Setup Problem (dynamics, environment and CBF)"
   ]
  },
  {
   "cell_type": "markdown",
   "metadata": {},
   "source": [
    "### Dynamics"
   ]
  },
  {
   "cell_type": "code",
   "execution_count": 6,
   "metadata": {},
   "outputs": [],
   "source": [
    "class CrazyflieDynamics(ControlAffineDynamics):\n",
    "    \"\"\"\n",
    "    Simplified dynamics, and we need to convert controls from phi to tan(phi)\"\"\"\n",
    "    STATES = [\"y\", \"z\", \"v_y\", \"v_z\", \"nu\"]  # added dim\n",
    "    CONTROLS = [\"tan(phi)\", \"T\"]\n",
    "    DISTURBANCES = [\"dy\"]\n",
    "    def __init__(self, params, test=True, **kwargs):\n",
    "        super().__init__(params, test, **kwargs)\n",
    "    \n",
    "    def open_loop_dynamics(self, state, time: float = 0.0):\n",
    "        return jnp.array([state[2], state[3], 0.0, -self.params['g'], 0.0]) # added dim\n",
    "\n",
    "    def control_matrix(self, state, time: float = 0.0):\n",
    "        return jnp.array([[0.0, 0.0], [0.0, 0.0], [9.81, 0.0], [0.0, 1.0], [0.0, 0.0]])  # added dim\n",
    "\n",
    "    # def disturbance_matrix(self, state, time: float = 0.0):\n",
    "    #     return jnp.array([[1.0, 0.0, 0.0, 0.0]]).reshape(len(self.STATES), len(self.DISTURBANCES))\n",
    "\n",
    "    def state_jacobian(self, state, control, disturbance = None, time: float = 0.0):\n",
    "        return jax.jacfwd(lambda x: self.__call__(x, control, disturbance, time))(state)\n",
    "    "
   ]
  },
  {
   "cell_type": "code",
   "execution_count": 20,
   "metadata": {},
   "outputs": [],
   "source": [
    "dyn = CrazyflieDynamics(params={'l': 8.0, 'g': [6., 9.81]}, dt=0.01, test=False)\n",
    "batched_dyn = BatchedDynamics(dyn)\n",
    "umax = jnp.array([jnp.tan(np.pi / 6), 1.1 * 9.81])\n",
    "umin = jnp.array([-jnp.tan(np.pi / 6), 0.0])\n",
    "# dmax = jnp.array([3.0])\n",
    "# dmin = jnp.array([-3.0])"
   ]
  },
  {
   "cell_type": "code",
   "execution_count": 21,
   "metadata": {},
   "outputs": [
    {
     "data": {
      "text/plain": [
       "{'l': 8.0, 'g': [6.0, 9.81]}"
      ]
     },
     "execution_count": 21,
     "metadata": {},
     "output_type": "execute_result"
    }
   ],
   "source": [
    "dyn.all_params"
   ]
  },
  {
   "cell_type": "code",
   "execution_count": null,
   "metadata": {},
   "outputs": [],
   "source": []
  },
  {
   "cell_type": "code",
   "execution_count": 22,
   "metadata": {},
   "outputs": [
    {
     "data": {
      "text/plain": [
       "[{'l': 8.0, 'g': 6.0}, {'l': 8.0, 'g': 9.81}]"
      ]
     },
     "execution_count": 22,
     "metadata": {},
     "output_type": "execute_result"
    }
   ],
   "source": [
    "dyn.get_param_combinations()"
   ]
  },
  {
   "cell_type": "code",
   "execution_count": 23,
   "metadata": {},
   "outputs": [
    {
     "ename": "AssertionError",
     "evalue": "All params must be fixed for simulation",
     "output_type": "error",
     "traceback": [
      "\u001b[0;31m---------------------------------------------------------------------------\u001b[0m",
      "\u001b[0;31mAssertionError\u001b[0m                            Traceback (most recent call last)",
      "\u001b[1;32m/home/sasslab/dev/dependencies/refineCBF/examples/crazyflie_uncertainties.ipynb Cell 15\u001b[0m line \u001b[0;36m1\n\u001b[0;32m----> <a href='vscode-notebook-cell:/home/sasslab/dev/dependencies/refineCBF/examples/crazyflie_uncertainties.ipynb#Y106sZmlsZQ%3D%3D?line=0'>1</a>\u001b[0m dyn\u001b[39m.\u001b[39;49mstep(np\u001b[39m.\u001b[39;49mzeros(\u001b[39m4\u001b[39;49m), np\u001b[39m.\u001b[39;49mzeros(\u001b[39m2\u001b[39;49m))\n",
      "File \u001b[0;32m~/dev/dependencies/cbf_opt/cbf_opt/dynamics.py:120\u001b[0m, in \u001b[0;36mDynamics.step\u001b[0;34m(self, state, control, disturbance, time, dt)\u001b[0m\n\u001b[1;32m    118\u001b[0m dt \u001b[39m=\u001b[39m \u001b[39mself\u001b[39m\u001b[39m.\u001b[39mdt \u001b[39mif\u001b[39;00m dt \u001b[39mis\u001b[39;00m \u001b[39mNone\u001b[39;00m \u001b[39melse\u001b[39;00m dt\n\u001b[1;32m    119\u001b[0m \u001b[39mif\u001b[39;00m \u001b[39mself\u001b[39m\u001b[39m.\u001b[39mstep_scheme \u001b[39m==\u001b[39m \u001b[39m\"\u001b[39m\u001b[39mfe\u001b[39m\u001b[39m\"\u001b[39m:\n\u001b[0;32m--> 120\u001b[0m     n_state \u001b[39m=\u001b[39m state \u001b[39m+\u001b[39m \u001b[39mself\u001b[39;49m(state, control, disturbance, time) \u001b[39m*\u001b[39m dt\n\u001b[1;32m    121\u001b[0m \u001b[39melif\u001b[39;00m \u001b[39mself\u001b[39m\u001b[39m.\u001b[39mstep_scheme \u001b[39m==\u001b[39m \u001b[39m\"\u001b[39m\u001b[39mrk4\u001b[39m\u001b[39m\"\u001b[39m:\n\u001b[1;32m    122\u001b[0m     \u001b[39m# TODO: Figure out how to do RK4 with periodic dimensions (aka angle normalization)\u001b[39;00m\n\u001b[1;32m    123\u001b[0m     \u001b[39m# Assumes zoh on control\u001b[39;00m\n\u001b[1;32m    124\u001b[0m     k1 \u001b[39m=\u001b[39m \u001b[39mself\u001b[39m(state, control, disturbance, time)\n",
      "File \u001b[0;32m~/dev/dependencies/cbf_opt/cbf_opt/dynamics.py:42\u001b[0m, in \u001b[0;36mDynamics.__call__\u001b[0;34m(self, state, control, disturbance, time)\u001b[0m\n\u001b[1;32m     38\u001b[0m \u001b[39mdef\u001b[39;00m \u001b[39m__call__\u001b[39m(\n\u001b[1;32m     39\u001b[0m     \u001b[39mself\u001b[39m, state: np\u001b[39m.\u001b[39mndarray, control: np\u001b[39m.\u001b[39mndarray, disturbance: np\u001b[39m.\u001b[39mndarray \u001b[39m=\u001b[39m \u001b[39mNone\u001b[39;00m, time: \u001b[39mfloat\u001b[39m \u001b[39m=\u001b[39m \u001b[39m0.0\u001b[39m\n\u001b[1;32m     40\u001b[0m ) \u001b[39m-\u001b[39m\u001b[39m>\u001b[39m np\u001b[39m.\u001b[39mndarray:\n\u001b[1;32m     41\u001b[0m     \u001b[39m# assert all params are floats or ints\u001b[39;00m\n\u001b[0;32m---> 42\u001b[0m     \u001b[39massert\u001b[39;00m \u001b[39mall\u001b[39m(\n\u001b[1;32m     43\u001b[0m         [\u001b[39misinstance\u001b[39m(v, (\u001b[39mfloat\u001b[39m, \u001b[39mint\u001b[39m)) \u001b[39mfor\u001b[39;00m v \u001b[39min\u001b[39;00m \u001b[39mself\u001b[39m\u001b[39m.\u001b[39mparams\u001b[39m.\u001b[39mvalues()]\n\u001b[1;32m     44\u001b[0m     ), \u001b[39m\"\u001b[39m\u001b[39mAll params must be fixed for simulation\u001b[39m\u001b[39m\"\u001b[39m\n\u001b[1;32m     45\u001b[0m     \u001b[39mreturn\u001b[39;00m \u001b[39mself\u001b[39m\u001b[39m.\u001b[39mf(state, control, disturbance, time)\n",
      "\u001b[0;31mAssertionError\u001b[0m: All params must be fixed for simulation"
     ]
    }
   ],
   "source": [
    "dyn.step(np.zeros(4), np.zeros(2))"
   ]
  },
  {
   "cell_type": "code",
   "execution_count": 9,
   "metadata": {},
   "outputs": [],
   "source": [
    "dyn_alt = CrazyflieDiffDynamics(params={}, dt=0.01, test=False)\n",
    "batched_dyn_alt = BatchedDynamics(dyn_alt)\n",
    "umax_alt = jnp.array([jnp.tan(np.pi / 6), 1.1 * 9.81])\n",
    "umin_alt = jnp.array([-jnp.tan(np.pi / 6), 0.0])\n",
    "dmax_alt = jnp.array([9.81])\n",
    "dmin_alt = jnp.array([6.0])"
   ]
  },
  {
   "cell_type": "markdown",
   "metadata": {},
   "source": [
    "## Environment:\n",
    "### Boundary of grid\n",
    "Boundary of grid is defined below by the state domain\n",
    "### Environment / obstacles\n",
    "Safe set is delimited by the state space boundary and by obstacles"
   ]
  },
  {
   "cell_type": "code",
   "execution_count": 10,
   "metadata": {},
   "outputs": [],
   "source": [
    "state_domain = hj.sets.Box(lo=jnp.array([-6., -0.1, -5., -5., 1.0]), \n",
    "                           hi=jnp.array([6., 4.1, 5., 5., 2.0]))  # added dim\n",
    "grid_resolution = (61, 61, 31, 31, 5)  # added dim\n",
    "grid = hj.Grid.from_lattice_parameters_and_boundary_conditions(state_domain, grid_resolution)"
   ]
  },
  {
   "cell_type": "code",
   "execution_count": 11,
   "metadata": {},
   "outputs": [],
   "source": [
    "boundary = np.array([[-10., 10.], [-4., 8.], [-10., 10.], [-10., 10.], [1.0, 2.0]])  # added dim (can ignore for inv ped)"
   ]
  },
  {
   "cell_type": "code",
   "execution_count": 12,
   "metadata": {},
   "outputs": [],
   "source": [
    "obstacle1 = np.array([[-2., 0.], [1., 3.], [-100., 100.], [-100., 100.], [-100., 100.]])  # added dim\n",
    "obstacles = [obstacle1]"
   ]
  },
  {
   "cell_type": "code",
   "execution_count": 13,
   "metadata": {},
   "outputs": [],
   "source": [
    "sdf = utils.build_sdf(boundary, obstacles)"
   ]
  },
  {
   "cell_type": "code",
   "execution_count": 14,
   "metadata": {},
   "outputs": [],
   "source": [
    "sdf_values = hj.utils.multivmap(sdf, jnp.arange(grid.ndim))(grid.states)"
   ]
  },
  {
   "cell_type": "markdown",
   "metadata": {},
   "source": [
    "# Vanilla Reachability is used here"
   ]
  },
  {
   "cell_type": "markdown",
   "metadata": {},
   "source": [
    "We consider here the comparison of a method that accounts for disturbances and one that doesn't"
   ]
  },
  {
   "cell_type": "code",
   "execution_count": 15,
   "metadata": {},
   "outputs": [],
   "source": [
    "backwards_reachable_tube = lambda obstacle: (lambda t, x: jnp.minimum(x, obstacle))\n",
    "solver_settings = hj.SolverSettings.with_accuracy(\"very_high\", value_postprocessor=backwards_reachable_tube(sdf_values))\n",
    "init_values = sdf_values\n",
    "initial_time = 0.\n",
    "final_time = -5.0\n",
    "times = jnp.linspace(initial_time, final_time, 51)"
   ]
  },
  {
   "cell_type": "markdown",
   "metadata": {},
   "source": [
    "### Disturbances"
   ]
  },
  {
   "cell_type": "code",
   "execution_count": 16,
   "metadata": {},
   "outputs": [
    {
     "name": "stderr",
     "output_type": "stream",
     "text": [
      " 20%|#9        |  1.0000/5.0 [02:37<10:57, 164.36s/sim_s]"
     ]
    },
    {
     "ename": "XlaRuntimeError",
     "evalue": "INTERNAL: Generated function failed: CpuCallback error: KeyboardInterrupt: <EMPTY MESSAGE>\n\nAt:\n  /opt/anaconda3/envs/ros_noetic/lib/python3.9/site-packages/jax/_src/interpreters/mlir.py(2326): _wrapped_callback\n  /opt/anaconda3/envs/ros_noetic/lib/python3.9/site-packages/jax/_src/interpreters/pxla.py(1144): __call__\n  /opt/anaconda3/envs/ros_noetic/lib/python3.9/site-packages/jax/_src/profiler.py(314): wrapper\n  /opt/anaconda3/envs/ros_noetic/lib/python3.9/site-packages/jax/_src/pjit.py(1152): _pjit_call_impl_python\n  /opt/anaconda3/envs/ros_noetic/lib/python3.9/site-packages/jax/_src/pjit.py(1196): call_impl_cache_miss\n  /opt/anaconda3/envs/ros_noetic/lib/python3.9/site-packages/jax/_src/pjit.py(1212): _pjit_call_impl\n  /opt/anaconda3/envs/ros_noetic/lib/python3.9/site-packages/jax/_src/core.py(869): process_primitive\n  /opt/anaconda3/envs/ros_noetic/lib/python3.9/site-packages/jax/_src/core.py(389): bind_with_trace\n  /opt/anaconda3/envs/ros_noetic/lib/python3.9/site-packages/jax/_src/core.py(2657): bind\n  /opt/anaconda3/envs/ros_noetic/lib/python3.9/site-packages/jax/_src/pjit.py(167): _python_pjit_helper\n  /opt/anaconda3/envs/ros_noetic/lib/python3.9/site-packages/jax/_src/pjit.py(256): cache_miss\n  /opt/anaconda3/envs/ros_noetic/lib/python3.9/site-packages/jax/_src/traceback_util.py(177): reraise_with_filtered_traceback\n  /home/sasslab/dev/dependencies/refineCBF/refine_cbfs/utils.py(75): hj_solve\n  /tmp/ipykernel_1567333/944994284.py(2): <module>\n  /opt/anaconda3/envs/ros_noetic/lib/python3.9/site-packages/IPython/core/interactiveshell.py(3550): run_code\n  /opt/anaconda3/envs/ros_noetic/lib/python3.9/site-packages/IPython/core/interactiveshell.py(3490): run_ast_nodes\n  /opt/anaconda3/envs/ros_noetic/lib/python3.9/site-packages/IPython/core/interactiveshell.py(3308): run_cell_async\n  /opt/anaconda3/envs/ros_noetic/lib/python3.9/site-packages/IPython/core/async_helpers.py(129): _pseudo_sync_runner\n  /opt/anaconda3/envs/ros_noetic/lib/python3.9/site-packages/IPython/core/interactiveshell.py(3103): _run_cell\n  /opt/anaconda3/envs/ros_noetic/lib/python3.9/site-packages/IPython/core/interactiveshell.py(3048): run_cell\n  /opt/anaconda3/envs/ros_noetic/lib/python3.9/site-packages/ipykernel/zmqshell.py(549): run_cell\n  /opt/anaconda3/envs/ros_noetic/lib/python3.9/site-packages/ipykernel/ipkernel.py(426): do_execute\n  /opt/anaconda3/envs/ros_noetic/lib/python3.9/site-packages/ipykernel/kernelbase.py(758): execute_request\n  /opt/anaconda3/envs/ros_noetic/lib/python3.9/site-packages/ipykernel/kernelbase.py(418): dispatch_shell\n  /opt/anaconda3/envs/ros_noetic/lib/python3.9/site-packages/ipykernel/kernelbase.py(513): process_one\n  /opt/anaconda3/envs/ros_noetic/lib/python3.9/site-packages/ipykernel/kernelbase.py(524): dispatch_queue\n  /opt/anaconda3/envs/ros_noetic/lib/python3.9/asyncio/events.py(80): _run\n  /opt/anaconda3/envs/ros_noetic/lib/python3.9/asyncio/base_events.py(1905): _run_once\n  /opt/anaconda3/envs/ros_noetic/lib/python3.9/asyncio/base_events.py(601): run_forever\n  /opt/anaconda3/envs/ros_noetic/lib/python3.9/site-packages/tornado/platform/asyncio.py(195): start\n  /opt/anaconda3/envs/ros_noetic/lib/python3.9/site-packages/ipykernel/kernelapp.py(737): start\n  /opt/anaconda3/envs/ros_noetic/lib/python3.9/site-packages/traitlets/config/application.py(1077): launch_instance\n  /opt/anaconda3/envs/ros_noetic/lib/python3.9/site-packages/ipykernel_launcher.py(17): <module>\n  /opt/anaconda3/envs/ros_noetic/lib/python3.9/runpy.py(87): _run_code\n  /opt/anaconda3/envs/ros_noetic/lib/python3.9/runpy.py(197): _run_module_as_main\n",
     "output_type": "error",
     "traceback": [
      "\u001b[0;31m---------------------------------------------------------------------------\u001b[0m",
      "\u001b[0;31mXlaRuntimeError\u001b[0m                           Traceback (most recent call last)",
      "\u001b[1;32m/home/sasslab/dev/dependencies/refineCBF/examples/crazyflie_uncertainties.ipynb Cell 23\u001b[0m line \u001b[0;36m2\n\u001b[1;32m      <a href='vscode-notebook-cell:/home/sasslab/dev/dependencies/refineCBF/examples/crazyflie_uncertainties.ipynb#X31sZmlsZQ%3D%3D?line=0'>1</a>\u001b[0m dyn_hjr \u001b[39m=\u001b[39m HJControlAffineDynamics(dyn, control_space\u001b[39m=\u001b[39mhj\u001b[39m.\u001b[39msets\u001b[39m.\u001b[39mBox(umin, umax))\n\u001b[0;32m----> <a href='vscode-notebook-cell:/home/sasslab/dev/dependencies/refineCBF/examples/crazyflie_uncertainties.ipynb#X31sZmlsZQ%3D%3D?line=1'>2</a>\u001b[0m target_values \u001b[39m=\u001b[39m utils\u001b[39m.\u001b[39;49mhj_solve(solver_settings, dyn_hjr, grid, times, init_values)\n",
      "File \u001b[0;32m~/dev/dependencies/refineCBF/refine_cbfs/utils.py:75\u001b[0m, in \u001b[0;36mhj_solve\u001b[0;34m(solver_settings, dyn_hjr, grid, times, init_values)\u001b[0m\n\u001b[1;32m     73\u001b[0m     dyn_hjr_alt \u001b[39m=\u001b[39m copy\u001b[39m.\u001b[39mdeepcopy(dyn_hjr)\n\u001b[1;32m     74\u001b[0m     dyn_hjr_alt\u001b[39m.\u001b[39mdynamics\u001b[39m.\u001b[39mparams \u001b[39m=\u001b[39m extremum\n\u001b[0;32m---> 75\u001b[0m     values_i \u001b[39m=\u001b[39m hj\u001b[39m.\u001b[39;49msolve(solver_settings, dyn_hjr_alt, grid, times, init_values)\n\u001b[1;32m     76\u001b[0m     values\u001b[39m.\u001b[39mappend(copy\u001b[39m.\u001b[39mdeepcopy(values_i))\n\u001b[1;32m     78\u001b[0m \u001b[39mreturn\u001b[39;00m jnp\u001b[39m.\u001b[39mmin(jnp\u001b[39m.\u001b[39marray(values), axis\u001b[39m=\u001b[39m\u001b[39m0\u001b[39m)\n",
      "    \u001b[0;31m[... skipping hidden 10 frame]\u001b[0m\n",
      "File \u001b[0;32m/opt/anaconda3/envs/ros_noetic/lib/python3.9/site-packages/jax/_src/interpreters/pxla.py:1144\u001b[0m, in \u001b[0;36mExecuteReplicated.__call__\u001b[0;34m(self, *args)\u001b[0m\n\u001b[1;32m   1141\u001b[0m \u001b[39mif\u001b[39;00m (\u001b[39mself\u001b[39m\u001b[39m.\u001b[39mordered_effects \u001b[39mor\u001b[39;00m \u001b[39mself\u001b[39m\u001b[39m.\u001b[39mhas_unordered_effects\n\u001b[1;32m   1142\u001b[0m     \u001b[39mor\u001b[39;00m \u001b[39mself\u001b[39m\u001b[39m.\u001b[39mhas_host_callbacks):\n\u001b[1;32m   1143\u001b[0m   input_bufs \u001b[39m=\u001b[39m \u001b[39mself\u001b[39m\u001b[39m.\u001b[39m_add_tokens_to_inputs(input_bufs)\n\u001b[0;32m-> 1144\u001b[0m   results \u001b[39m=\u001b[39m \u001b[39mself\u001b[39;49m\u001b[39m.\u001b[39;49mxla_executable\u001b[39m.\u001b[39;49mexecute_sharded(\n\u001b[1;32m   1145\u001b[0m       input_bufs, with_tokens\u001b[39m=\u001b[39;49m\u001b[39mTrue\u001b[39;49;00m\n\u001b[1;32m   1146\u001b[0m   )\n\u001b[1;32m   1147\u001b[0m   result_token_bufs \u001b[39m=\u001b[39m results\u001b[39m.\u001b[39mdisassemble_prefix_into_single_device_arrays(\n\u001b[1;32m   1148\u001b[0m       \u001b[39mlen\u001b[39m(\u001b[39mself\u001b[39m\u001b[39m.\u001b[39mordered_effects))\n\u001b[1;32m   1149\u001b[0m   sharded_runtime_token \u001b[39m=\u001b[39m results\u001b[39m.\u001b[39mconsume_token()\n",
      "\u001b[0;31mXlaRuntimeError\u001b[0m: INTERNAL: Generated function failed: CpuCallback error: KeyboardInterrupt: <EMPTY MESSAGE>\n\nAt:\n  /opt/anaconda3/envs/ros_noetic/lib/python3.9/site-packages/jax/_src/interpreters/mlir.py(2326): _wrapped_callback\n  /opt/anaconda3/envs/ros_noetic/lib/python3.9/site-packages/jax/_src/interpreters/pxla.py(1144): __call__\n  /opt/anaconda3/envs/ros_noetic/lib/python3.9/site-packages/jax/_src/profiler.py(314): wrapper\n  /opt/anaconda3/envs/ros_noetic/lib/python3.9/site-packages/jax/_src/pjit.py(1152): _pjit_call_impl_python\n  /opt/anaconda3/envs/ros_noetic/lib/python3.9/site-packages/jax/_src/pjit.py(1196): call_impl_cache_miss\n  /opt/anaconda3/envs/ros_noetic/lib/python3.9/site-packages/jax/_src/pjit.py(1212): _pjit_call_impl\n  /opt/anaconda3/envs/ros_noetic/lib/python3.9/site-packages/jax/_src/core.py(869): process_primitive\n  /opt/anaconda3/envs/ros_noetic/lib/python3.9/site-packages/jax/_src/core.py(389): bind_with_trace\n  /opt/anaconda3/envs/ros_noetic/lib/python3.9/site-packages/jax/_src/core.py(2657): bind\n  /opt/anaconda3/envs/ros_noetic/lib/python3.9/site-packages/jax/_src/pjit.py(167): _python_pjit_helper\n  /opt/anaconda3/envs/ros_noetic/lib/python3.9/site-packages/jax/_src/pjit.py(256): cache_miss\n  /opt/anaconda3/envs/ros_noetic/lib/python3.9/site-packages/jax/_src/traceback_util.py(177): reraise_with_filtered_traceback\n  /home/sasslab/dev/dependencies/refineCBF/refine_cbfs/utils.py(75): hj_solve\n  /tmp/ipykernel_1567333/944994284.py(2): <module>\n  /opt/anaconda3/envs/ros_noetic/lib/python3.9/site-packages/IPython/core/interactiveshell.py(3550): run_code\n  /opt/anaconda3/envs/ros_noetic/lib/python3.9/site-packages/IPython/core/interactiveshell.py(3490): run_ast_nodes\n  /opt/anaconda3/envs/ros_noetic/lib/python3.9/site-packages/IPython/core/interactiveshell.py(3308): run_cell_async\n  /opt/anaconda3/envs/ros_noetic/lib/python3.9/site-packages/IPython/core/async_helpers.py(129): _pseudo_sync_runner\n  /opt/anaconda3/envs/ros_noetic/lib/python3.9/site-packages/IPython/core/interactiveshell.py(3103): _run_cell\n  /opt/anaconda3/envs/ros_noetic/lib/python3.9/site-packages/IPython/core/interactiveshell.py(3048): run_cell\n  /opt/anaconda3/envs/ros_noetic/lib/python3.9/site-packages/ipykernel/zmqshell.py(549): run_cell\n  /opt/anaconda3/envs/ros_noetic/lib/python3.9/site-packages/ipykernel/ipkernel.py(426): do_execute\n  /opt/anaconda3/envs/ros_noetic/lib/python3.9/site-packages/ipykernel/kernelbase.py(758): execute_request\n  /opt/anaconda3/envs/ros_noetic/lib/python3.9/site-packages/ipykernel/kernelbase.py(418): dispatch_shell\n  /opt/anaconda3/envs/ros_noetic/lib/python3.9/site-packages/ipykernel/kernelbase.py(513): process_one\n  /opt/anaconda3/envs/ros_noetic/lib/python3.9/site-packages/ipykernel/kernelbase.py(524): dispatch_queue\n  /opt/anaconda3/envs/ros_noetic/lib/python3.9/asyncio/events.py(80): _run\n  /opt/anaconda3/envs/ros_noetic/lib/python3.9/asyncio/base_events.py(1905): _run_once\n  /opt/anaconda3/envs/ros_noetic/lib/python3.9/asyncio/base_events.py(601): run_forever\n  /opt/anaconda3/envs/ros_noetic/lib/python3.9/site-packages/tornado/platform/asyncio.py(195): start\n  /opt/anaconda3/envs/ros_noetic/lib/python3.9/site-packages/ipykernel/kernelapp.py(737): start\n  /opt/anaconda3/envs/ros_noetic/lib/python3.9/site-packages/traitlets/config/application.py(1077): launch_instance\n  /opt/anaconda3/envs/ros_noetic/lib/python3.9/site-packages/ipykernel_launcher.py(17): <module>\n  /opt/anaconda3/envs/ros_noetic/lib/python3.9/runpy.py(87): _run_code\n  /opt/anaconda3/envs/ros_noetic/lib/python3.9/runpy.py(197): _run_module_as_main\n"
     ]
    }
   ],
   "source": [
    "dyn_hjr = HJControlAffineDynamics(dyn, control_space=hj.sets.Box(umin, umax))\n",
    "target_values = utils.hj_solve(solver_settings, dyn_hjr, grid, times, init_values)"
   ]
  },
  {
   "cell_type": "code",
   "execution_count": null,
   "metadata": {},
   "outputs": [
    {
     "data": {
      "text/plain": [
       "Array(0.9452462, dtype=float32)"
      ]
     },
     "execution_count": 17,
     "metadata": {},
     "output_type": "execute_result"
    }
   ],
   "source": [
    "(target_values[-1] >= 0).sum() / target_values[-1].size"
   ]
  },
  {
   "cell_type": "code",
   "execution_count": null,
   "metadata": {},
   "outputs": [
    {
     "name": "stderr",
     "output_type": "stream",
     "text": [
      "100%|##########|  5.0000/5.0 [15:16<00:00, 183.39s/sim_s]\n"
     ]
    }
   ],
   "source": [
    "dyn2 = CrazyflieDynamics(params={'g': 9.81}, dt=0.01, test=False)\n",
    "dyn_hjr2 = HJControlAffineDynamics(dyn2, control_space=hj.sets.Box(umin, umax))\n",
    "target_values2 = utils.hj_solve(solver_settings, dyn_hjr2, grid, times, init_values)"
   ]
  },
  {
   "cell_type": "code",
   "execution_count": null,
   "metadata": {},
   "outputs": [
    {
     "data": {
      "text/plain": [
       "Array(0.9500945, dtype=float32)"
      ]
     },
     "execution_count": 19,
     "metadata": {},
     "output_type": "execute_result"
    }
   ],
   "source": [
    "(target_values2[-1] >= 0).sum() / target_values2[-1].size"
   ]
  },
  {
   "cell_type": "code",
   "execution_count": null,
   "metadata": {},
   "outputs": [
    {
     "name": "stderr",
     "output_type": "stream",
     "text": [
      "100%|##########|  5.0000/5.0 [14:09<00:00, 169.92s/sim_s]\n"
     ]
    }
   ],
   "source": [
    "dyn3 = CrazyflieDynamics(params={'g': 6.}, dt=0.01, test=False)\n",
    "dyn_hjr3 = HJControlAffineDynamics(dyn3, control_space=hj.sets.Box(umin, umax))\n",
    "target_values3 = utils.hj_solve(solver_settings, dyn_hjr3, grid, times, init_values)"
   ]
  },
  {
   "cell_type": "code",
   "execution_count": null,
   "metadata": {},
   "outputs": [
    {
     "data": {
      "text/plain": [
       "Array(0.9530203, dtype=float32)"
      ]
     },
     "execution_count": 21,
     "metadata": {},
     "output_type": "execute_result"
    }
   ],
   "source": [
    "(target_values3[-1] >= 0).sum() / target_values3[-1].size"
   ]
  },
  {
   "cell_type": "code",
   "execution_count": null,
   "metadata": {},
   "outputs": [
    {
     "name": "stderr",
     "output_type": "stream",
     "text": [
      "100%|##########|  5.0000/5.0 [15:27<00:00, 185.40s/sim_s]\n"
     ]
    }
   ],
   "source": [
    "dyn_hjr_alt = HJControlAffineDynamics(dyn_alt, control_space=hj.sets.Box(umin_alt, umax_alt), disturbance_space=hj.sets.Box(dmin_alt, dmax_alt))\n",
    "target_values_alt = utils.hj_solve(solver_settings, dyn_hjr_alt, grid, times, init_values)"
   ]
  },
  {
   "cell_type": "code",
   "execution_count": null,
   "metadata": {},
   "outputs": [
    {
     "data": {
      "text/plain": [
       "Array(0.9479823, dtype=float32)"
      ]
     },
     "execution_count": 23,
     "metadata": {},
     "output_type": "execute_result"
    }
   ],
   "source": [
    "(target_values_alt[-1] >= 0).sum() / target_values_alt[-1].size"
   ]
  },
  {
   "cell_type": "code",
   "execution_count": null,
   "metadata": {},
   "outputs": [],
   "source": [
    "# Set up the figure and axis\n",
    "fig = plt.figure()\n",
    "ax = fig.add_subplot(111)\n",
    "\n",
    "div = make_axes_locatable(ax)\n",
    "cax = div.append_axes('right', '5%', '5%')\n",
    "\n",
    "vy_slice = grid.shape[2] // 2\n",
    "vz_slice = grid.shape[3] // 2 - 5\n",
    "\n",
    "vmax = np.abs(target_values[0]).max()\n",
    "cf = ax.contourf(grid.coordinate_vectors[0], grid.coordinate_vectors[1],\n",
    "                 target_values[0][:, :, vy_slice, vz_slice].T, vmax=vmax, vmin=-vmax)\n",
    "cont_sdf = ax.contour(grid.coordinate_vectors[0], grid.coordinate_vectors[1],\n",
    "           sdf_values[:, :, vy_slice, vz_slice].T, levels=[0], colors='k', linewidths=4)\n",
    "cont = ax.contour(grid.coordinate_vectors[0], grid.coordinate_vectors[1],\n",
    "           target_values[0][:, :, vy_slice, vz_slice].T, levels=[0], colors='green', linewidths=2)\n",
    "cb = fig.colorbar(cf, cax=cax)\n",
    "tx = ax.set_title(f'HJR time $t=0$')\n",
    "ax.set_xlabel('$y$ (Horizontal)')\n",
    "ax.set_ylabel('$z$ (Vertical)')\n",
    "tx = ax.set_title(f'$v_y=0, v_z=0$, HJR time $t=0$')\n",
    "\n",
    "# Update function to draw contours for a given idi value\n",
    "def update(idi):\n",
    "    global cont\n",
    "    arr = target_values[idi][:, :, vy_slice, vz_slice].T\n",
    "    vmax = np.abs(arr).max()\n",
    "    # ax.clear()\n",
    "    cf = ax.contourf(grid.coordinate_vectors[0], grid.coordinate_vectors[1], arr, vmax=vmax, vmin=-vmax)\n",
    "    cont.collections[0].remove()\n",
    "    cont = ax.contour(grid.coordinate_vectors[0], grid.coordinate_vectors[1],\n",
    "               arr, levels=[0], colors='green')\n",
    "    cax.cla()\n",
    "    fig.colorbar(cf, cax=cax)\n",
    "    tx.set_text('HJR time t={:.2f}'.format(np.abs(times[idi].item())))\n",
    "\n",
    "\n",
    "# Animate with idi values from 0 to 11\n",
    "ani = FuncAnimation(fig, update, frames=range(len(times)))\n",
    "plt.close()\n",
    "HTML(ani.to_jshtml())"
   ]
  },
  {
   "cell_type": "code",
   "execution_count": null,
   "metadata": {},
   "outputs": [],
   "source": [
    "# Set up the figure and axis\n",
    "fig = plt.figure()\n",
    "ax = fig.add_subplot(111)\n",
    "\n",
    "div = make_axes_locatable(ax)\n",
    "cax = div.append_axes('right', '5%', '5%')\n",
    "\n",
    "vy_slice = grid.shape[2] // 2\n",
    "vz_slice = grid.shape[3] // 2 - 5\n",
    "\n",
    "vmax = np.abs(target_values[0]).max()\n",
    "cf = ax.contourf(grid.coordinate_vectors[0], grid.coordinate_vectors[1],\n",
    "                 target_values2[0][:, :, vy_slice, vz_slice].T, vmax=vmax, vmin=-vmax)\n",
    "cont_sdf = ax.contour(grid.coordinate_vectors[0], grid.coordinate_vectors[1],\n",
    "           sdf_values[:, :, vy_slice, vz_slice].T, levels=[0], colors='k', linewidths=4)\n",
    "cont = ax.contour(grid.coordinate_vectors[0], grid.coordinate_vectors[1],\n",
    "           target_values2[0][:, :, vy_slice, vz_slice].T, levels=[0], colors='green', linewidths=2)\n",
    "cb = fig.colorbar(cf, cax=cax)\n",
    "tx = ax.set_title(f'HJR time $t=0$')\n",
    "ax.set_xlabel('$y$ (Horizontal)')\n",
    "ax.set_ylabel('$z$ (Vertical)')\n",
    "tx = ax.set_title(f'$v_y=0, v_z=0$, HJR time $t=0$')\n",
    "\n",
    "# Update function to draw contours for a given idi value\n",
    "def update(idi):\n",
    "    global cont\n",
    "    arr = target_values2[idi][:, :, vy_slice, vz_slice].T\n",
    "    vmax = np.abs(arr).max()\n",
    "    # ax.clear()\n",
    "    cf = ax.contourf(grid.coordinate_vectors[0], grid.coordinate_vectors[1], arr, vmax=vmax, vmin=-vmax)\n",
    "    cont.collections[0].remove()\n",
    "    cont = ax.contour(grid.coordinate_vectors[0], grid.coordinate_vectors[1],\n",
    "               arr, levels=[0], colors='green')\n",
    "    cax.cla()\n",
    "    fig.colorbar(cf, cax=cax)\n",
    "    tx.set_text('HJR time t={:.2f}'.format(np.abs(times[idi].item())))\n",
    "\n",
    "\n",
    "# Animate with idi values from 0 to 11\n",
    "ani = FuncAnimation(fig, update, frames=range(len(times)))\n",
    "plt.close()\n",
    "HTML(ani.to_jshtml())"
   ]
  },
  {
   "cell_type": "code",
   "execution_count": null,
   "metadata": {},
   "outputs": [],
   "source": [
    "# Set up the figure and axis\n",
    "fig = plt.figure()\n",
    "ax = fig.add_subplot(111)\n",
    "\n",
    "div = make_axes_locatable(ax)\n",
    "cax = div.append_axes('right', '5%', '5%')\n",
    "\n",
    "vy_slice = grid.shape[2] // 2\n",
    "vz_slice = grid.shape[3] // 2 - 5\n",
    "\n",
    "vmax = np.abs(target_values[0]).max()\n",
    "cf = ax.contourf(grid.coordinate_vectors[0], grid.coordinate_vectors[1],\n",
    "                 target_values3[0][:, :, vy_slice, vz_slice].T, vmax=vmax, vmin=-vmax)\n",
    "cont_sdf = ax.contour(grid.coordinate_vectors[0], grid.coordinate_vectors[1],\n",
    "           sdf_values[:, :, vy_slice, vz_slice].T, levels=[0], colors='k', linewidths=4)\n",
    "cont = ax.contour(grid.coordinate_vectors[0], grid.coordinate_vectors[1],\n",
    "           target_values3[0][:, :, vy_slice, vz_slice].T, levels=[0], colors='green', linewidths=2)\n",
    "cb = fig.colorbar(cf, cax=cax)\n",
    "tx = ax.set_title(f'HJR time $t=0$')\n",
    "ax.set_xlabel('$y$ (Horizontal)')\n",
    "ax.set_ylabel('$z$ (Vertical)')\n",
    "tx = ax.set_title(f'$v_y=0, v_z=0$, HJR time $t=0$')\n",
    "\n",
    "# Update function to draw contours for a given idi value\n",
    "def update(idi):\n",
    "    global cont\n",
    "    arr = target_values3[idi][:, :, vy_slice, vz_slice].T\n",
    "    vmax = np.abs(arr).max()\n",
    "    # ax.clear()\n",
    "    cf = ax.contourf(grid.coordinate_vectors[0], grid.coordinate_vectors[1], arr, vmax=vmax, vmin=-vmax)\n",
    "    cont.collections[0].remove()\n",
    "    cont = ax.contour(grid.coordinate_vectors[0], grid.coordinate_vectors[1],\n",
    "               arr, levels=[0], colors='green')\n",
    "    cax.cla()\n",
    "    fig.colorbar(cf, cax=cax)\n",
    "    tx.set_text('HJR time t={:.2f}'.format(np.abs(times[idi].item())))\n",
    "\n",
    "\n",
    "# Animate with idi values from 0 to 11\n",
    "ani = FuncAnimation(fig, update, frames=range(len(times)))\n",
    "plt.close()\n",
    "HTML(ani.to_jshtml())"
   ]
  },
  {
   "cell_type": "code",
   "execution_count": null,
   "metadata": {},
   "outputs": [],
   "source": [
    "# Set up the figure and axis\n",
    "fig = plt.figure()\n",
    "ax = fig.add_subplot(111)\n",
    "\n",
    "div = make_axes_locatable(ax)\n",
    "cax = div.append_axes('right', '5%', '5%')\n",
    "\n",
    "vmax = np.abs(target_values[0]).max()\n",
    "cf = ax.contourf(grid.coordinate_vectors[0], grid.coordinate_vectors[1],\n",
    "                 target_values_no_d[0][:, :, grid.shape[2] // 2, grid.shape[3] // 2].T, vmax=vmax, vmin=-vmax)\n",
    "cont_sdf = ax.contour(grid.coordinate_vectors[0], grid.coordinate_vectors[1],\n",
    "           sdf_values[:, :, grid.shape[2] // 2, grid.shape[3] // 2].T, levels=[0], colors='k', linewidths=4)\n",
    "cont = ax.contour(grid.coordinate_vectors[0], grid.coordinate_vectors[1],\n",
    "           target_values_no_d[0][:, :, grid.shape[2] // 2, grid.shape[3] // 2].T, levels=[0], colors='green', linewidths=2)\n",
    "cb = fig.colorbar(cf, cax=cax)\n",
    "tx = ax.set_title(f'HJR time $t=0$')\n",
    "ax.set_xlabel('$y$ (Horizontal)')\n",
    "ax.set_ylabel('$z$ (Vertical)')\n",
    "tx = ax.set_title(f'$v_y=0, v_z=0$, HJR time $t=0$')\n",
    "\n",
    "# Update function to draw contours for a given idi value\n",
    "def update(idi):\n",
    "    global cont\n",
    "    arr = target_values_no_d[idi][:, :, grid.shape[2] // 2, grid.shape[3] // 2].T\n",
    "    vmax = np.abs(arr).max()\n",
    "    # ax.clear()\n",
    "    cf = ax.contourf(grid.coordinate_vectors[0], grid.coordinate_vectors[1], arr, vmax=vmax, vmin=-vmax)\n",
    "    cont.collections[0].remove()\n",
    "    cont = ax.contour(grid.coordinate_vectors[0], grid.coordinate_vectors[1],\n",
    "               arr, levels=[0], colors='green')\n",
    "    cax.cla()\n",
    "    fig.colorbar(cf, cax=cax)\n",
    "    tx.set_text('HJR time t={:.2f}'.format(np.abs(times[idi].item())))\n",
    "\n",
    "\n",
    "# Animate with idi values from 0 to 11\n",
    "ani = FuncAnimation(fig, update, frames=range(len(times)))\n",
    "plt.close()\n",
    "HTML(ani.to_jshtml())"
   ]
  },
  {
   "cell_type": "markdown",
   "metadata": {},
   "source": [
    "## Online implementation"
   ]
  },
  {
   "cell_type": "markdown",
   "metadata": {},
   "source": [
    "### Comparisons\n",
    "We compare the following algorithms:\n",
    "- Nominal safety-agnostic control\n",
    "- Heuristic CBF (what people use in practice!)\n",
    "- CBVF computed using `refineCBF` from heuristic CBF offline\n",
    "- Time varying CBVF (Ours)"
   ]
  },
  {
   "cell_type": "markdown",
   "metadata": {},
   "source": [
    "### Value function evolution"
   ]
  },
  {
   "cell_type": "markdown",
   "metadata": {},
   "source": [
    "The timescales over which we solved for the value function offline (see above) might not be real-time feasible. Hence we consider it is solved at a different frequency (e.g., artificially slowing down how the value function changes), to test out the framework.\n",
    "\n",
    "Here we \"slow\" the reachability updates by a factor 4!"
   ]
  },
  {
   "cell_type": "code",
   "execution_count": null,
   "metadata": {},
   "outputs": [],
   "source": [
    "tabular_finalized_cbf = TabularControlAffineCBF(batched_dyn, {}, test=False, grid=grid)\n",
    "tabular_finalized_cbf.vf_table = target_values[-1]  # Take the last value (when converged)"
   ]
  },
  {
   "cell_type": "code",
   "execution_count": null,
   "metadata": {},
   "outputs": [],
   "source": [
    "tcbf_no_d = TabularControlAffineCBF(batched_dyn, {}, test=False, grid=grid)\n",
    "tcbf_no_d.vf_table = target_values_no_d[-1]  # Take the last value (when converged)"
   ]
  },
  {
   "cell_type": "markdown",
   "metadata": {},
   "source": [
    "### Nominal control\n",
    "We consider an LQR controller for nominal control. If you modify the experiment you can see that an LQR controller with safety filter is safe but can lead to us getting stuck"
   ]
  },
  {
   "cell_type": "code",
   "execution_count": null,
   "metadata": {},
   "outputs": [],
   "source": [
    "x_nom = jnp.array([0.0, 3.0, 0.0, 0.0])\n",
    "u_nom = jnp.array([0.0, 9.81])\n",
    "A, B, _ = dyn.linearized_dt_dynamics(x_nom, u_nom)  # For discrete LQR!\n",
    "\n",
    "Q = jnp.diag(jnp.array([1.0, 1.0, 0.1, 0.1]))\n",
    "R = jnp.diag(jnp.array([1.0, 1.0]))\n",
    "\n",
    "K = cbf_opt.utils.lqr(A, B, Q, R)\n",
    "\n",
    "A_cl = A - B @ K\n",
    "# assert np.all(np.linalg.eigvals(A_cl) < 0).all() "
   ]
  },
  {
   "cell_type": "code",
   "execution_count": null,
   "metadata": {},
   "outputs": [],
   "source": [
    "nominal_control = lambda u_ref, x_ref, F: lambda x, t: np.atleast_2d(np.clip(u_ref - \n",
    "                                (F @ (x - x_ref).T).T, umin, umax))"
   ]
  },
  {
   "cell_type": "markdown",
   "metadata": {},
   "source": [
    "### Safety filter\n",
    "We use the slackified version of the safety filter to ensure , we use gurobi as a solver (you need to obtain an academic license, or change the solver to e.g. \"ECOS\" / \"OSQP\")"
   ]
  },
  {
   "cell_type": "code",
   "execution_count": null,
   "metadata": {},
   "outputs": [],
   "source": [
    "x_goal = jnp.array([4.5, 1.0, 0.0, 0.0])\n",
    "u_goal = jnp.array([0.0, 9.81])\n",
    "nom_control = nominal_control(u_goal, x_goal, K)\n",
    "alpha = lambda x: 3.0 * x\n",
    "\n",
    "cbvf_asif = SlackifiedControlAffineASIF(batched_dyn, tabular_finalized_cbf, test=False, alpha=alpha, nominal_policy=nom_control,\n",
    "                                        umin=umin, umax=umax, dmin=dmin, dmax=dmax, solver=cp.GUROBI)\n",
    "\n",
    "cbvf_asif_no_d = SlackifiedControlAffineASIF(batched_dyn, tcbf_no_d, test=False, alpha=alpha, nominal_policy=nom_control,\n",
    "                                             umin=umin, umax=umax, solver=cp.GUROBI)"
   ]
  },
  {
   "cell_type": "code",
   "execution_count": null,
   "metadata": {},
   "outputs": [],
   "source": [
    "x0 = jnp.array([-4.0, 2.0, 0.0, 0.0])\n",
    "experiment = RolloutTrajectory('quad', start_x=x0, n_sims_per_start=1, t_sim=10.0)"
   ]
  },
  {
   "cell_type": "code",
   "execution_count": null,
   "metadata": {},
   "outputs": [],
   "source": [
    "class UniformDisturbance:\n",
    "    def __init__(self, bounds, **kwargs):\n",
    "        self.bounds = bounds\n",
    "        self.seed = kwargs.get(\"seed\", 0)\n",
    "        self.beta_skew = kwargs.get(\"beta_skew\", 1.0)  # Defaults to a uniform distribution (beta(1,1) = uniform(0,1))\n",
    "        self.reset()\n",
    "    \n",
    "    def __call__(self, x, t):\n",
    "        # Randomized value\n",
    "        return self.random_state.beta(self.beta_skew, self.beta_skew, size=(x.shape[0], self.bounds.shape[0])) * (self.bounds[:, 1] - self.bounds[:, 0]) + self.bounds[:, 0]\n",
    "    \n",
    "    def reset(self, x=None):\n",
    "        # Resets random state to have same disturbances for each rollout\n",
    "        self.random_state = np.random.default_rng(seed=self.seed)"
   ]
  },
  {
   "cell_type": "code",
   "execution_count": null,
   "metadata": {},
   "outputs": [],
   "source": [
    "dist = UniformDisturbance(np.array([dmin, dmax]).T)"
   ]
  },
  {
   "cell_type": "code",
   "execution_count": null,
   "metadata": {},
   "outputs": [],
   "source": [
    "import logging\n",
    "logging.getLogger('cbf_opt').setLevel(level=logging.ERROR)\n",
    "results_df = experiment.run(batched_dyn, {\"nominal\": nom_control, \"Disturbance aware CBF\": cbvf_asif, \"Nonaware CBF\": cbvf_asif_no_d}, disturbances={\"uniform\": dist})"
   ]
  },
  {
   "cell_type": "code",
   "execution_count": null,
   "metadata": {},
   "outputs": [],
   "source": [
    "# Find closest time in results_df.t to time_ind\n",
    "#### NO NEED TO MODIFY TYPICALLY ####\n",
    "def find_closest_time(df, time_ind):\n",
    "    return df.t.iloc[df.t.sub(time_ind).abs().idxmin()]\n",
    "\n",
    "\n",
    "ss_exp = StateSpaceExperiment('quad', x_indices=[0, 1], start_x=x0)\n",
    "# Set up the figure and axis\n",
    "fig = plt.figure(figsize=(20,10))\n",
    "ax = fig.add_subplot(111)\n",
    "alphas = [0.1, 0.5, 0.5, 1.0]\n",
    "nbr_controllers = len(results_df.controller.unique())\n",
    "\n",
    "plt.legend(results_df.controller.unique())\n",
    "ax.contour(grid.coordinate_vectors[0], grid.coordinate_vectors[1],\n",
    "           tabular_finalized_cbf.vf_table[:, :, grid.shape[2] // 2, grid.shape[3] // 2].T, levels=[0], colors='grey', linewidths=4)  \n",
    "cont3 = ax.contourf(grid.coordinate_vectors[0], grid.coordinate_vectors[1],\n",
    "           sdf_values[:, :, grid.shape[2] // 2, grid.shape[3] // 2].T, levels=[-10, 0], colors='red')\n",
    "cont2 = ax.contour(grid.coordinate_vectors[0], grid.coordinate_vectors[1],\n",
    "           sdf_values[:, :, grid.shape[2] // 2, grid.shape[3] // 2].T, levels=[0], colors='k', linewidths=4)\n",
    "ax.set_xlabel('$y$ (Horizontal)', fontsize=20)\n",
    "ax.set_ylabel('$z$ (Vertical)', fontsize=20)\n",
    "tx = ax.set_title('$v_y=0, v_z=0$, HJR time $t=0$')\n",
    "ss_exp.plot(batched_dyn, results_df, ax=ax, add_direction=False, max_time=0.0, alpha=alphas)\n",
    "ax.legend(ax.lines[::len(ax.lines) // nbr_controllers], results_df.controller.unique(), loc=\"upper center\", ncol=4, fontsize=20)\n",
    "\n",
    "# Update function to draw contours for a given idi value\n",
    "def update(time):\n",
    "    for line in ax.lines:\n",
    "        line.remove()\n",
    "    for patch in ax.patches:\n",
    "        patch.remove()\n",
    "    ax.set_prop_cycle(None)\n",
    "    ss_exp.plot(batched_dyn, results_df, ax=ax, add_direction=False, max_time=time, alpha=alphas)\n",
    "    closest_time = find_closest_time(results_df, time)\n",
    "    curr_vals = results_df[(results_df.t == closest_time) & (results_df.measurement.isin([\"y\", \"z\", \"tan(phi)\"]))].value.values.reshape(nbr_controllers, -1)\n",
    "    colors = []\n",
    "    for line in ax.lines[::len(ax.lines) // nbr_controllers]:\n",
    "        colors.append(line.get_color())\n",
    "    for i, curr_val in enumerate(curr_vals):\n",
    "        # get color from prop_cycle \n",
    "        get_drone(ax, curr_val[0], curr_val[1], np.arctan(-curr_val[2]), rel_size=0.3, height_scale=0.9, alpha=alphas[i], color=colors[i])\n",
    "    tx.set_text('$v_y=0, v_z=0$, Simulation time t={:.2f}'.format(np.abs(time)))\n",
    "    fig.tight_layout()\n",
    "\n",
    "ani = FuncAnimation(fig, update, frames=np.linspace(0,10,100))\n",
    "plt.close()\n",
    "HTML(ani.to_jshtml())"
   ]
  },
  {
   "cell_type": "code",
   "execution_count": null,
   "metadata": {},
   "outputs": [],
   "source": [
    "ts_exp = TimeSeriesExperiment('quad', x_indices=[0, 1], start_x=x0)"
   ]
  },
  {
   "cell_type": "code",
   "execution_count": null,
   "metadata": {},
   "outputs": [],
   "source": [
    "fighandle = ts_exp.plot(batched_dyn, results_df, extra_measurements=['vf'])[0]\n",
    "fig = fighandle[1]\n",
    "ax = fig.axes[-1]\n",
    "ax.plot(np.arange(0,20), np.zeros_like(np.arange(0,20)), 'k--', linewidth=4)"
   ]
  }
 ],
 "metadata": {
  "kernelspec": {
   "display_name": "Python 3.8.13 ('refine_cbf')",
   "language": "python",
   "name": "python3"
  },
  "language_info": {
   "codemirror_mode": {
    "name": "ipython",
    "version": 3
   },
   "file_extension": ".py",
   "mimetype": "text/x-python",
   "name": "python",
   "nbconvert_exporter": "python",
   "pygments_lexer": "ipython3",
   "version": "3.9.18"
  },
  "orig_nbformat": 4,
  "vscode": {
   "interpreter": {
    "hash": "817647b86e70f13476c612841a53261b77d8bded203e176d956e3e918f8a40e2"
   }
  }
 },
 "nbformat": 4,
 "nbformat_minor": 2
}
